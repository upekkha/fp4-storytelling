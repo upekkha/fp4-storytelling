{
 "cells": [
  {
   "cell_type": "markdown",
   "metadata": {},
   "source": [
    "## FP4 European Funding Data\n",
    "\n",
    "Data from https://open-data.europa.eu/en/data/dataset/cordisfp4projects"
   ]
  },
  {
   "cell_type": "code",
   "execution_count": 1,
   "metadata": {
    "collapsed": true
   },
   "outputs": [],
   "source": [
    "import pandas as pd"
   ]
  },
  {
   "cell_type": "code",
   "execution_count": 2,
   "metadata": {
    "collapsed": true
   },
   "outputs": [],
   "source": [
    "fp4 = pd.read_csv('FP4-data.csv')"
   ]
  },
  {
   "cell_type": "code",
   "execution_count": 3,
   "metadata": {
    "collapsed": false
   },
   "outputs": [
    {
     "data": {
      "text/html": [
       "<div style=\"max-height:1000px;max-width:1500px;overflow:auto;\">\n",
       "<table border=\"1\" class=\"dataframe\">\n",
       "  <thead>\n",
       "    <tr style=\"text-align: right;\">\n",
       "      <th></th>\n",
       "      <th>id</th>\n",
       "      <th>title</th>\n",
       "      <th>acronym</th>\n",
       "      <th>subject</th>\n",
       "      <th>area</th>\n",
       "      <th>subject.1</th>\n",
       "      <th>start</th>\n",
       "      <th>end</th>\n",
       "      <th>duration</th>\n",
       "      <th>status</th>\n",
       "      <th>cost</th>\n",
       "      <th>framework</th>\n",
       "      <th>country</th>\n",
       "      <th>contractor</th>\n",
       "    </tr>\n",
       "  </thead>\n",
       "  <tbody>\n",
       "    <tr>\n",
       "      <th>0</th>\n",
       "      <td>0</td>\n",
       "      <td>Spot IV-VΘgΘtation</td>\n",
       "      <td>NaN</td>\n",
       "      <td>Environmental Protection; Forecasting; Meteoro...</td>\n",
       "      <td>Research and development work for potential fu...</td>\n",
       "      <td>Environmental Protection; Forecasting; Meteoro...</td>\n",
       "      <td>1995-04-01</td>\n",
       "      <td>1997-07-31</td>\n",
       "      <td>NaN</td>\n",
       "      <td>Completed</td>\n",
       "      <td>NaN</td>\n",
       "      <td>Fourth Framework Programme</td>\n",
       "      <td>FR</td>\n",
       "      <td>NaN</td>\n",
       "    </tr>\n",
       "    <tr>\n",
       "      <th>1</th>\n",
       "      <td>1</td>\n",
       "      <td>Formation and occurrence of nitrous acd in the...</td>\n",
       "      <td>NaN</td>\n",
       "      <td>Environmental Protection; Forecasting; Measure...</td>\n",
       "      <td>Tropospheric physics and chemistry</td>\n",
       "      <td>Environmental Protection; Forecasting; Measure...</td>\n",
       "      <td>1996-02-01</td>\n",
       "      <td>1998-07-31</td>\n",
       "      <td>NaN</td>\n",
       "      <td>Completed</td>\n",
       "      <td>NaN</td>\n",
       "      <td>Fourth Framework Programme</td>\n",
       "      <td>IT</td>\n",
       "      <td>CH; DE; DE; DE; DE; DK; FR; GB; GR</td>\n",
       "    </tr>\n",
       "    <tr>\n",
       "      <th>2</th>\n",
       "      <td>2</td>\n",
       "      <td>Process for Production of Light Olefins by Deh...</td>\n",
       "      <td>NaN</td>\n",
       "      <td>Industrial Manufacture; Materials Technology</td>\n",
       "      <td>Materials engineering</td>\n",
       "      <td>Industrial Manufacture; Materials Technology</td>\n",
       "      <td>1996-01-01</td>\n",
       "      <td>1998-12-31</td>\n",
       "      <td>NaN</td>\n",
       "      <td>Completed</td>\n",
       "      <td>NaN</td>\n",
       "      <td>Fourth Framework Programme</td>\n",
       "      <td>FI</td>\n",
       "      <td>DE; FI; FR; FR</td>\n",
       "    </tr>\n",
       "    <tr>\n",
       "      <th>3</th>\n",
       "      <td>3</td>\n",
       "      <td>High resolution diode laser carbon dioxide env...</td>\n",
       "      <td>NaN</td>\n",
       "      <td>Environmental Protection; Measurement Methods;...</td>\n",
       "      <td>Troposphere</td>\n",
       "      <td>Environmental Protection; Measurement Methods;...</td>\n",
       "      <td>1996-04-01</td>\n",
       "      <td>1999-03-31</td>\n",
       "      <td>NaN</td>\n",
       "      <td>Completed</td>\n",
       "      <td>NaN</td>\n",
       "      <td>Fourth Framework Programme</td>\n",
       "      <td>IT</td>\n",
       "      <td>DE; IT</td>\n",
       "    </tr>\n",
       "    <tr>\n",
       "      <th>4</th>\n",
       "      <td>4</td>\n",
       "      <td>Subsurface Radar as a Tool for Non-destructive...</td>\n",
       "      <td>NaN</td>\n",
       "      <td>Industrial Manufacture; Materials Technology; ...</td>\n",
       "      <td>Reliability and quality of materials and products</td>\n",
       "      <td>Industrial Manufacture; Materials Technology; ...</td>\n",
       "      <td>1996-01-01</td>\n",
       "      <td>1998-12-31</td>\n",
       "      <td>NaN</td>\n",
       "      <td>Completed</td>\n",
       "      <td>NaN</td>\n",
       "      <td>Fourth Framework Programme</td>\n",
       "      <td>DE</td>\n",
       "      <td>DE; GB; GB; GB; IT; IT; NO</td>\n",
       "    </tr>\n",
       "  </tbody>\n",
       "</table>\n",
       "</div>"
      ],
      "text/plain": [
       "   id                                              title acronym  \\\n",
       "0   0                                 Spot IV-VΘgΘtation     NaN   \n",
       "1   1  Formation and occurrence of nitrous acd in the...     NaN   \n",
       "2   2  Process for Production of Light Olefins by Deh...     NaN   \n",
       "3   3  High resolution diode laser carbon dioxide env...     NaN   \n",
       "4   4  Subsurface Radar as a Tool for Non-destructive...     NaN   \n",
       "\n",
       "                                             subject  \\\n",
       "0  Environmental Protection; Forecasting; Meteoro...   \n",
       "1  Environmental Protection; Forecasting; Measure...   \n",
       "2       Industrial Manufacture; Materials Technology   \n",
       "3  Environmental Protection; Measurement Methods;...   \n",
       "4  Industrial Manufacture; Materials Technology; ...   \n",
       "\n",
       "                                                area  \\\n",
       "0  Research and development work for potential fu...   \n",
       "1                 Tropospheric physics and chemistry   \n",
       "2                              Materials engineering   \n",
       "3                                        Troposphere   \n",
       "4  Reliability and quality of materials and products   \n",
       "\n",
       "                                           subject.1       start         end  \\\n",
       "0  Environmental Protection; Forecasting; Meteoro...  1995-04-01  1997-07-31   \n",
       "1  Environmental Protection; Forecasting; Measure...  1996-02-01  1998-07-31   \n",
       "2       Industrial Manufacture; Materials Technology  1996-01-01  1998-12-31   \n",
       "3  Environmental Protection; Measurement Methods;...  1996-04-01  1999-03-31   \n",
       "4  Industrial Manufacture; Materials Technology; ...  1996-01-01  1998-12-31   \n",
       "\n",
       "   duration     status  cost                   framework country  \\\n",
       "0       NaN  Completed   NaN  Fourth Framework Programme      FR   \n",
       "1       NaN  Completed   NaN  Fourth Framework Programme      IT   \n",
       "2       NaN  Completed   NaN  Fourth Framework Programme      FI   \n",
       "3       NaN  Completed   NaN  Fourth Framework Programme      IT   \n",
       "4       NaN  Completed   NaN  Fourth Framework Programme      DE   \n",
       "\n",
       "                           contractor  \n",
       "0                                 NaN  \n",
       "1  CH; DE; DE; DE; DE; DK; FR; GB; GR  \n",
       "2                      DE; FI; FR; FR  \n",
       "3                              DE; IT  \n",
       "4          DE; GB; GB; GB; IT; IT; NO  "
      ]
     },
     "execution_count": 3,
     "metadata": {},
     "output_type": "execute_result"
    }
   ],
   "source": [
    "fp4.head()"
   ]
  },
  {
   "cell_type": "code",
   "execution_count": 4,
   "metadata": {
    "collapsed": false
   },
   "outputs": [
    {
     "data": {
      "text/plain": [
       "id            14567\n",
       "title         14567\n",
       "acronym        5351\n",
       "subject       14303\n",
       "area          14297\n",
       "subject.1     14303\n",
       "start         13740\n",
       "end           13676\n",
       "duration       3846\n",
       "status        14564\n",
       "cost           3931\n",
       "framework     14567\n",
       "country       14389\n",
       "contractor    10967\n",
       "dtype: int64"
      ]
     },
     "execution_count": 4,
     "metadata": {},
     "output_type": "execute_result"
    }
   ],
   "source": [
    "fp4.count()"
   ]
  },
  {
   "cell_type": "markdown",
   "metadata": {},
   "source": [
    "## --> 14k records, but only ~4k have a cost -- let's focus on these"
   ]
  },
  {
   "cell_type": "code",
   "execution_count": 5,
   "metadata": {
    "collapsed": true
   },
   "outputs": [],
   "source": [
    "fp4sel = fp4[(fp4['cost'] > 0)]"
   ]
  },
  {
   "cell_type": "markdown",
   "metadata": {},
   "source": [
    "# Exploratory Data Visualization"
   ]
  },
  {
   "cell_type": "code",
   "execution_count": 6,
   "metadata": {
    "collapsed": false
   },
   "outputs": [],
   "source": [
    "%matplotlib inline\n",
    "import matplotlib\n",
    "matplotlib.style.use('ggplot')\n",
    "import numpy as np"
   ]
  },
  {
   "cell_type": "code",
   "execution_count": 7,
   "metadata": {
    "collapsed": false
   },
   "outputs": [
    {
     "data": {
      "image/png": "[encoded data removed]",
      "text/plain": [
       "<matplotlib.figure.Figure at 0x114b06668>"
      ]
     },
     "metadata": {},
     "output_type": "display_data"
    }
   ],
   "source": [
    "ProjectsByCountry = fp4sel.groupby('country').size().order(ascending=False)\n",
    "ProjectsByCountry.plot(kind='bar');"
   ]
  },
  {
   "cell_type": "markdown",
   "metadata": {},
   "source": [
    "## --> top 3 could have been guessed, decaying pattern\n",
    "compare population: DE > FR > GB > IT > ES [wiki](http://en.wikipedia.org/wiki/List_of_European_countries_by_population)"
   ]
  },
  {
   "cell_type": "markdown",
   "metadata": {},
   "source": [
    "## What about project duration?"
   ]
  },
  {
   "cell_type": "code",
   "execution_count": 8,
   "metadata": {
    "collapsed": false,
    "scrolled": true
   },
   "outputs": [
    {
     "data": {
      "image/png": "[encoded data removed]",
      "text/plain": [
       "<matplotlib.figure.Figure at 0x114be5860>"
      ]
     },
     "metadata": {},
     "output_type": "display_data"
    }
   ],
   "source": [
    "fp4sel['duration'].plot(kind='hist',log=True,bins=50);"
   ]
  },
  {
   "cell_type": "markdown",
   "metadata": {},
   "source": [
    "## --> looks pretty random"
   ]
  },
  {
   "cell_type": "markdown",
   "metadata": {},
   "source": [
    "## What about cost per project?"
   ]
  },
  {
   "cell_type": "code",
   "execution_count": 9,
   "metadata": {
    "collapsed": false,
    "scrolled": false
   },
   "outputs": [
    {
     "data": {
      "image/png": "[encoded data removed]",
      "text/plain": [
       "<matplotlib.figure.Figure at 0x114c5a2e8>"
      ]
     },
     "metadata": {},
     "output_type": "display_data"
    }
   ],
   "source": [
    "fp4sel['cost'].plot(kind='hist');"
   ]
  },
  {
   "cell_type": "markdown",
   "metadata": {},
   "source": [
    "## --> mostly \"cheap\" projects\n",
    "We will have a look at the cumulated costs later..."
   ]
  },
  {
   "cell_type": "code",
   "execution_count": 10,
   "metadata": {
    "collapsed": false,
    "scrolled": false
   },
   "outputs": [
    {
     "data": {
      "image/png": "[encoded data removed]",
      "text/plain": [
       "<matplotlib.figure.Figure at 0x11501c3c8>"
      ]
     },
     "metadata": {},
     "output_type": "display_data"
    }
   ],
   "source": [
    "fp4sel['cost'].plot(kind='hist',log=True);"
   ]
  },
  {
   "cell_type": "code",
   "execution_count": 11,
   "metadata": {
    "collapsed": false,
    "scrolled": false
   },
   "outputs": [
    {
     "data": {
      "image/png": "[encoded data removed]",
      "text/plain": [
       "<matplotlib.figure.Figure at 0x11504bbe0>"
      ]
     },
     "metadata": {},
     "output_type": "display_data"
    }
   ],
   "source": [
    "fp4sel['cost'].plot(kind='hist',log=True,bins=30);"
   ]
  },
  {
   "cell_type": "code",
   "execution_count": 12,
   "metadata": {
    "collapsed": false,
    "scrolled": false
   },
   "outputs": [
    {
     "data": {
      "image/png": "[encoded data removed]",
      "text/plain": [
       "<matplotlib.figure.Figure at 0x114bd7c18>"
      ]
     },
     "metadata": {},
     "output_type": "display_data"
    }
   ],
   "source": [
    "fp4sel['cost'].plot(kind='hist',log=True,bins=50);"
   ]
  },
  {
   "cell_type": "markdown",
   "metadata": {},
   "source": [
    "## --> as usual: details of shape depend on binning"
   ]
  },
  {
   "cell_type": "code",
   "execution_count": 13,
   "metadata": {
    "collapsed": false
   },
   "outputs": [
    {
     "data": {
      "image/png": "[encoded data removed]",
      "text/plain": [
       "<matplotlib.figure.Figure at 0x114ebb438>"
      ]
     },
     "metadata": {},
     "output_type": "display_data"
    }
   ],
   "source": [
    "fp4sel['cost'].plot(kind='hist',bins=50,cumulative=True,normed=True);"
   ]
  },
  {
   "cell_type": "markdown",
   "metadata": {},
   "source": [
    "## Can we see Pareto's 80/20 principle?"
   ]
  },
  {
   "cell_type": "code",
   "execution_count": 14,
   "metadata": {
    "collapsed": false
   },
   "outputs": [
    {
     "name": "stdout",
     "output_type": "stream",
     "text": [
      "97.9357798165\n"
     ]
    }
   ],
   "source": [
    "i = 0\n",
    "for cumcost in fp4sel['cost'].order().cumsum():\n",
    "    i += 1\n",
    "    if ( cumcost >= 0.8 * fp4sel['cost'].sum() ):\n",
    "        print(i * 100 / fp4sel['cost'].count())\n",
    "        break"
   ]
  },
  {
   "cell_type": "code",
   "execution_count": 15,
   "metadata": {
    "collapsed": false
   },
   "outputs": [
    {
     "data": {
      "text/plain": [
       "78.480000000000004"
      ]
     },
     "execution_count": 15,
     "metadata": {},
     "output_type": "execute_result"
    }
   ],
   "source": [
    "0.02 * fp4sel['cost'].count()"
   ]
  },
  {
   "cell_type": "code",
   "execution_count": 16,
   "metadata": {
    "collapsed": false
   },
   "outputs": [
    {
     "data": {
      "text/plain": [
       "19.873098714596797"
      ]
     },
     "execution_count": 16,
     "metadata": {},
     "output_type": "execute_result"
    }
   ],
   "source": [
    "fp4sel['cost'].order(ascending=False)[1:88].sum() * 100 / fp4sel['cost'].sum()"
   ]
  },
  {
   "cell_type": "markdown",
   "metadata": {},
   "source": [
    "## --> 2 % of the projects account for 80% of the budget"
   ]
  },
  {
   "cell_type": "markdown",
   "metadata": {},
   "source": [
    "## How much total funding is given to each country?"
   ]
  },
  {
   "cell_type": "code",
   "execution_count": 17,
   "metadata": {
    "collapsed": false
   },
   "outputs": [
    {
     "data": {
      "text/html": [
       "<div style=\"max-height:1000px;max-width:1500px;overflow:auto;\">\n",
       "<table border=\"1\" class=\"dataframe\">\n",
       "  <thead>\n",
       "    <tr>\n",
       "      <th></th>\n",
       "      <th colspan=\"2\" halign=\"left\">cost</th>\n",
       "    </tr>\n",
       "    <tr>\n",
       "      <th></th>\n",
       "      <th>size</th>\n",
       "      <th>sum</th>\n",
       "    </tr>\n",
       "    <tr>\n",
       "      <th>country</th>\n",
       "      <th></th>\n",
       "      <th></th>\n",
       "    </tr>\n",
       "  </thead>\n",
       "  <tbody>\n",
       "    <tr>\n",
       "      <th>AT</th>\n",
       "      <td>83</td>\n",
       "      <td>139652145</td>\n",
       "    </tr>\n",
       "    <tr>\n",
       "      <th>BE</th>\n",
       "      <td>197</td>\n",
       "      <td>426269187</td>\n",
       "    </tr>\n",
       "    <tr>\n",
       "      <th>BG</th>\n",
       "      <td>1</td>\n",
       "      <td>517000</td>\n",
       "    </tr>\n",
       "    <tr>\n",
       "      <th>CH</th>\n",
       "      <td>8</td>\n",
       "      <td>27389500</td>\n",
       "    </tr>\n",
       "    <tr>\n",
       "      <th>CY</th>\n",
       "      <td>2</td>\n",
       "      <td>1310000</td>\n",
       "    </tr>\n",
       "    <tr>\n",
       "      <th>CZ</th>\n",
       "      <td>2</td>\n",
       "      <td>202000</td>\n",
       "    </tr>\n",
       "    <tr>\n",
       "      <th>DE</th>\n",
       "      <td>605</td>\n",
       "      <td>1317023306</td>\n",
       "    </tr>\n",
       "    <tr>\n",
       "      <th>DK</th>\n",
       "      <td>94</td>\n",
       "      <td>176785035</td>\n",
       "    </tr>\n",
       "    <tr>\n",
       "      <th>ES</th>\n",
       "      <td>318</td>\n",
       "      <td>538240065</td>\n",
       "    </tr>\n",
       "    <tr>\n",
       "      <th>FI</th>\n",
       "      <td>73</td>\n",
       "      <td>154647404</td>\n",
       "    </tr>\n",
       "    <tr>\n",
       "      <th>FR</th>\n",
       "      <td>610</td>\n",
       "      <td>1457214214</td>\n",
       "    </tr>\n",
       "    <tr>\n",
       "      <th>GB</th>\n",
       "      <td>682</td>\n",
       "      <td>1236691486</td>\n",
       "    </tr>\n",
       "    <tr>\n",
       "      <th>GR</th>\n",
       "      <td>165</td>\n",
       "      <td>234650044</td>\n",
       "    </tr>\n",
       "    <tr>\n",
       "      <th>HU</th>\n",
       "      <td>3</td>\n",
       "      <td>1441650</td>\n",
       "    </tr>\n",
       "    <tr>\n",
       "      <th>IE</th>\n",
       "      <td>97</td>\n",
       "      <td>155967754</td>\n",
       "    </tr>\n",
       "    <tr>\n",
       "      <th>IL</th>\n",
       "      <td>19</td>\n",
       "      <td>17430985</td>\n",
       "    </tr>\n",
       "    <tr>\n",
       "      <th>IS</th>\n",
       "      <td>18</td>\n",
       "      <td>23983712</td>\n",
       "    </tr>\n",
       "    <tr>\n",
       "      <th>IT</th>\n",
       "      <td>424</td>\n",
       "      <td>820471083</td>\n",
       "    </tr>\n",
       "    <tr>\n",
       "      <th>LU</th>\n",
       "      <td>12</td>\n",
       "      <td>22144971</td>\n",
       "    </tr>\n",
       "    <tr>\n",
       "      <th>NL</th>\n",
       "      <td>282</td>\n",
       "      <td>566523880</td>\n",
       "    </tr>\n",
       "    <tr>\n",
       "      <th>NO</th>\n",
       "      <td>70</td>\n",
       "      <td>143962183</td>\n",
       "    </tr>\n",
       "    <tr>\n",
       "      <th>PT</th>\n",
       "      <td>48</td>\n",
       "      <td>103724285</td>\n",
       "    </tr>\n",
       "    <tr>\n",
       "      <th>RO</th>\n",
       "      <td>1</td>\n",
       "      <td>550000</td>\n",
       "    </tr>\n",
       "    <tr>\n",
       "      <th>SE</th>\n",
       "      <td>94</td>\n",
       "      <td>160906697</td>\n",
       "    </tr>\n",
       "    <tr>\n",
       "      <th>SI</th>\n",
       "      <td>3</td>\n",
       "      <td>1257000</td>\n",
       "    </tr>\n",
       "    <tr>\n",
       "      <th>TR</th>\n",
       "      <td>1</td>\n",
       "      <td>1084900</td>\n",
       "    </tr>\n",
       "  </tbody>\n",
       "</table>\n",
       "</div>"
      ],
      "text/plain": [
       "        cost            \n",
       "        size         sum\n",
       "country                 \n",
       "AT        83   139652145\n",
       "BE       197   426269187\n",
       "BG         1      517000\n",
       "CH         8    27389500\n",
       "CY         2     1310000\n",
       "CZ         2      202000\n",
       "DE       605  1317023306\n",
       "DK        94   176785035\n",
       "ES       318   538240065\n",
       "FI        73   154647404\n",
       "FR       610  1457214214\n",
       "GB       682  1236691486\n",
       "GR       165   234650044\n",
       "HU         3     1441650\n",
       "IE        97   155967754\n",
       "IL        19    17430985\n",
       "IS        18    23983712\n",
       "IT       424   820471083\n",
       "LU        12    22144971\n",
       "NL       282   566523880\n",
       "NO        70   143962183\n",
       "PT        48   103724285\n",
       "RO         1      550000\n",
       "SE        94   160906697\n",
       "SI         3     1257000\n",
       "TR         1     1084900"
      ]
     },
     "execution_count": 17,
     "metadata": {},
     "output_type": "execute_result"
    }
   ],
   "source": [
    "CostByCountry = fp4sel.groupby(['country']).agg({'cost': [np.size, np.sum]})\n",
    "CostByCountry"
   ]
  },
  {
   "cell_type": "code",
   "execution_count": 18,
   "metadata": {
    "collapsed": false
   },
   "outputs": [
    {
     "data": {
      "image/png": "[encoded data removed]",
      "text/plain": [
       "<matplotlib.figure.Figure at 0x114f3cc88>"
      ]
     },
     "metadata": {},
     "output_type": "display_data"
    }
   ],
   "source": [
    "CostByCountry['cost','sum'].order(ascending=False).plot(kind='bar');"
   ]
  },
  {
   "cell_type": "markdown",
   "metadata": {},
   "source": [
    "## --> again the largest countries receive most total funding\n",
    "But they also had the most projects...so what about ratio?"
   ]
  },
  {
   "cell_type": "code",
   "execution_count": 19,
   "metadata": {
    "collapsed": false
   },
   "outputs": [],
   "source": [
    "CostByProjectAndCountry = CostByCountry['cost','sum']/CostByCountry['cost','size']"
   ]
  },
  {
   "cell_type": "code",
   "execution_count": 20,
   "metadata": {
    "collapsed": false
   },
   "outputs": [
    {
     "data": {
      "image/png": "[encoded data removed]",
      "text/plain": [
       "<matplotlib.figure.Figure at 0x1152fe198>"
      ]
     },
     "metadata": {},
     "output_type": "display_data"
    }
   ],
   "source": [
    "CostByProjectAndCountry.order(ascending=False).plot(kind='bar');"
   ]
  },
  {
   "cell_type": "markdown",
   "metadata": {},
   "source": [
    "## --> Switzerland = No 1 ! (most funding per project)\n",
    "GB with most funding and most projects only in the middle."
   ]
  },
  {
   "cell_type": "markdown",
   "metadata": {},
   "source": [
    "## Why?"
   ]
  },
  {
   "cell_type": "code",
   "execution_count": 21,
   "metadata": {
    "collapsed": false
   },
   "outputs": [
    {
     "data": {
      "text/plain": [
       "8"
      ]
     },
     "execution_count": 21,
     "metadata": {},
     "output_type": "execute_result"
    }
   ],
   "source": [
    "fp4CH = fp4sel[fp4sel['country'] == 'CH']\n",
    "fp4CH['cost'].count()"
   ]
  },
  {
   "cell_type": "markdown",
   "metadata": {},
   "source": [
    "## --> only 8 projects in that period"
   ]
  },
  {
   "cell_type": "code",
   "execution_count": 22,
   "metadata": {
    "collapsed": false
   },
   "outputs": [
    {
     "data": {
      "text/html": [
       "<div style=\"max-height:1000px;max-width:1500px;overflow:auto;\">\n",
       "<table border=\"1\" class=\"dataframe\">\n",
       "  <thead>\n",
       "    <tr style=\"text-align: right;\">\n",
       "      <th></th>\n",
       "      <th>id</th>\n",
       "      <th>title</th>\n",
       "      <th>acronym</th>\n",
       "      <th>subject</th>\n",
       "      <th>area</th>\n",
       "      <th>subject.1</th>\n",
       "      <th>start</th>\n",
       "      <th>end</th>\n",
       "      <th>duration</th>\n",
       "      <th>status</th>\n",
       "      <th>cost</th>\n",
       "      <th>framework</th>\n",
       "      <th>country</th>\n",
       "      <th>contractor</th>\n",
       "    </tr>\n",
       "  </thead>\n",
       "  <tbody>\n",
       "    <tr>\n",
       "      <th>183</th>\n",
       "      <td>183</td>\n",
       "      <td>Platform for engineering research and trials</td>\n",
       "      <td>EXPERT</td>\n",
       "      <td>Electronics, Microelectronics; Information Pro...</td>\n",
       "      <td>High speed networking</td>\n",
       "      <td>Electronics, Microelectronics; Information Pro...</td>\n",
       "      <td>1995-10-01</td>\n",
       "      <td>1998-03-31</td>\n",
       "      <td>30</td>\n",
       "      <td>Completed</td>\n",
       "      <td>15973000</td>\n",
       "      <td>Fourth Framework Programme</td>\n",
       "      <td>CH</td>\n",
       "      <td>BE; BE; BE; CH; CH; CH; CH; DE; DE; DE; DE; DK...</td>\n",
       "    </tr>\n",
       "  </tbody>\n",
       "</table>\n",
       "</div>"
      ],
      "text/plain": [
       "      id                                         title acronym  \\\n",
       "183  183  Platform for engineering research and trials  EXPERT   \n",
       "\n",
       "                                               subject                   area  \\\n",
       "183  Electronics, Microelectronics; Information Pro...  High speed networking   \n",
       "\n",
       "                                             subject.1       start  \\\n",
       "183  Electronics, Microelectronics; Information Pro...  1995-10-01   \n",
       "\n",
       "            end  duration     status      cost                   framework  \\\n",
       "183  1998-03-31        30  Completed  15973000  Fourth Framework Programme   \n",
       "\n",
       "    country                                         contractor  \n",
       "183      CH  BE; BE; BE; CH; CH; CH; CH; DE; DE; DE; DE; DK...  "
      ]
     },
     "execution_count": 22,
     "metadata": {},
     "output_type": "execute_result"
    }
   ],
   "source": [
    "fp4sel.sort(['cost'], ascending=[0]).head(31).tail(1)"
   ]
  },
  {
   "cell_type": "markdown",
   "metadata": {},
   "source": [
    "## --> 31th most expensive project (of the 4k considered)"
   ]
  },
  {
   "cell_type": "code",
   "execution_count": 23,
   "metadata": {
    "collapsed": false
   },
   "outputs": [
    {
     "data": {
      "text/plain": [
       "27389500.0"
      ]
     },
     "execution_count": 23,
     "metadata": {},
     "output_type": "execute_result"
    }
   ],
   "source": [
    "fp4CH['cost'].sum()"
   ]
  },
  {
   "cell_type": "code",
   "execution_count": 24,
   "metadata": {
    "collapsed": false
   },
   "outputs": [
    {
     "data": {
      "text/plain": [
       "0.35388208639733626"
      ]
     },
     "execution_count": 24,
     "metadata": {},
     "output_type": "execute_result"
    }
   ],
   "source": [
    "100/fp4sel['cost'].sum() * fp4CH['cost'].sum() "
   ]
  },
  {
   "cell_type": "markdown",
   "metadata": {},
   "source": [
    "### --> only ~0.3% of the total funding went to CH"
   ]
  },
  {
   "cell_type": "markdown",
   "metadata": {},
   "source": [
    "# Conclusion: Black or White\n",
    "\n",
    "The same data set can be (mis-)used to tell opposite stories."
   ]
  },
  {
   "cell_type": "code",
   "execution_count": 25,
   "metadata": {
    "collapsed": false
   },
   "outputs": [
    {
     "data": {
      "image/png": "[encoded data removed]",
      "text/plain": [
       "<matplotlib.figure.Figure at 0x114ffefd0>"
      ]
     },
     "metadata": {},
     "output_type": "display_data"
    }
   ],
   "source": [
    "CostByProjectAndCountry.order(ascending=False).plot(kind='bar');"
   ]
  },
  {
   "cell_type": "code",
   "execution_count": 26,
   "metadata": {
    "collapsed": false
   },
   "outputs": [
    {
     "data": {
      "image/png": "[encoded data removed]",
      "text/plain": [
       "<matplotlib.figure.Figure at 0x114e6a240>"
      ]
     },
     "metadata": {},
     "output_type": "display_data"
    }
   ],
   "source": [
    "CostByCountry['cost','sum'].order(ascending=False).plot(kind='bar');"
   ]
  },
  {
   "cell_type": "code",
   "execution_count": null,
   "metadata": {
    "collapsed": true
   },
   "outputs": [],
   "source": []
  }
 ],
 "metadata": {
  "kernelspec": {
   "display_name": "Python 3",
   "language": "python",
   "name": "python3"
  },
  "language_info": {
   "codemirror_mode": {
    "name": "ipython",
    "version": 3
   },
   "file_extension": ".py",
   "mimetype": "text/x-python",
   "name": "python",
   "nbconvert_exporter": "python",
   "pygments_lexer": "ipython3",
   "version": "3.4.3"
  }
 },
 "nbformat": 4,
 "nbformat_minor": 0
}
